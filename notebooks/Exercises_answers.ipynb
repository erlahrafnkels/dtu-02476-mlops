{
 "cells": [
  {
   "cell_type": "markdown",
   "id": "9fe3f38d-50a1-4cbf-affd-893ff1eae914",
   "metadata": {
    "tags": []
   },
   "source": [
    "# 02476 Machine Learning Operations\n",
    "\n",
    "In this notebook I will answer questions to the exercises which require written answers."
   ]
  },
  {
   "cell_type": "markdown",
   "id": "a474bd4a-1e1f-4ecb-a31f-543dcd3f279d",
   "metadata": {
    "tags": []
   },
   "source": [
    "## S1 - Getting started"
   ]
  },
  {
   "cell_type": "markdown",
   "id": "825c7e26-3b1e-47ac-bcf9-6702f29f3aa0",
   "metadata": {
    "tags": []
   },
   "source": [
    "### M1 - Terminal\n",
    "\n",
    "4. The `ls` command is important when we want to know the content of a folder. Try to use the command, and also try it with the additional option `-l`. What does it show?\n",
    "\n",
    "> `ls -l` shows the contents of the folder with the specific information of each file, like the size, date and author."
   ]
  },
  {
   "cell_type": "markdown",
   "id": "8b6bb893-adb2-472e-a6cc-30ee36c48206",
   "metadata": {
    "tags": []
   },
   "source": [
    "### M2 - Conda\n",
    "\n",
    "3. When you create an environment with `conda`, how do you specify which python version it should be using?\n",
    "\n",
    "> You do `conda create -n \"myenv\" python=x.x.x` with your desired version number.\n",
    "\n",
    "4. Which `conda` command gives you a list of the packages installed in the current environment?\n",
    "\n",
    "> `conda list`\n",
    "\n",
    "4. a) How do you easily export this list to a text file? Do this, and make sure you export it to a file called `enviroment.yml`.\n",
    "    \n",
    "> `conda list --export > environment.yml`\n",
    "\n",
    "5. Which conda commando gives you a list of all the environments that you have created?\n",
    "\n",
    "> `conda env list`\n",
    "\n",
    "6. As the introduction states, it is fairly safe to use `pip` inside `conda` today. What is the corresponding `pip` command that gives you a list of all `pip` installed packages? And how to you export this to a file called `requirements.txt`?\n",
    "\n",
    "> `pip` command to view a list of all installed packages: `pip list`. To export: `pip freeze > requirements.txt`.\n",
    "\n",
    "7. b) Either try out `pipreqs` on one of your own projects or try it out on some other online project. What does the `requirements.txt` file `pipreqs` produce look like compared to the files produces by either `pip` or `conda`?\n",
    "\n",
    "> The `pipreqs` file has much fewer packages listed, only the ones really being used in the project."
   ]
  }
 ],
 "metadata": {
  "kernelspec": {
   "display_name": "Python 3 (ipykernel)",
   "language": "python",
   "name": "python3"
  },
  "language_info": {
   "codemirror_mode": {
    "name": "ipython",
    "version": 3
   },
   "file_extension": ".py",
   "mimetype": "text/x-python",
   "name": "python",
   "nbconvert_exporter": "python",
   "pygments_lexer": "ipython3",
   "version": "3.9.7"
  }
 },
 "nbformat": 4,
 "nbformat_minor": 5
}
